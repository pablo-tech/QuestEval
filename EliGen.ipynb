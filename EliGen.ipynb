{
 "cells": [
  {
   "cell_type": "markdown",
   "id": "ce4d7801",
   "metadata": {},
   "source": [
    "# LFQA "
   ]
  },
  {
   "cell_type": "code",
   "execution_count": null,
   "id": "ad04d34f",
   "metadata": {},
   "outputs": [],
   "source": [
    "# https://towardsdatascience.com/ask-wikipedia-eli5-like-questions-using-long-form-question-answering-on-haystack-32cf1ca6c00e"
   ]
  },
  {
   "cell_type": "markdown",
   "id": "898fce3a",
   "metadata": {},
   "source": [
    "## Setup"
   ]
  },
  {
   "cell_type": "code",
   "execution_count": 1,
   "id": "ed9f0c2e",
   "metadata": {},
   "outputs": [
    {
     "name": "stdout",
     "output_type": "stream",
     "text": [
      "Requirement already satisfied: farm-haystack in /home/ec2-user/anaconda3/envs/JupyterSystemEnv/lib/python3.6/site-packages (0.8.0)\n",
      "Requirement already satisfied: python-multipart in /home/ec2-user/anaconda3/envs/JupyterSystemEnv/lib/python3.6/site-packages (from farm-haystack) (0.0.5)\n",
      "Requirement already satisfied: pymilvus in /home/ec2-user/anaconda3/envs/JupyterSystemEnv/lib/python3.6/site-packages (from farm-haystack) (1.1.2)\n",
      "Requirement already satisfied: SPARQLWrapper in /home/ec2-user/anaconda3/envs/JupyterSystemEnv/lib/python3.6/site-packages (from farm-haystack) (1.8.5)\n",
      "Requirement already satisfied: sklearn in /home/ec2-user/anaconda3/envs/JupyterSystemEnv/lib/python3.6/site-packages (from farm-haystack) (0.0)\n",
      "Requirement already satisfied: psycopg2-binary in /home/ec2-user/anaconda3/envs/JupyterSystemEnv/lib/python3.6/site-packages (from farm-haystack) (2.9.1)\n",
      "Requirement already satisfied: httptools in /home/ec2-user/anaconda3/envs/JupyterSystemEnv/lib/python3.6/site-packages (from farm-haystack) (0.3.0)\n",
      "Requirement already satisfied: elasticsearch<=7.10,>=7.7 in /home/ec2-user/anaconda3/envs/JupyterSystemEnv/lib/python3.6/site-packages (from farm-haystack) (7.10.0)\n",
      "Requirement already satisfied: langdetect in /home/ec2-user/anaconda3/envs/JupyterSystemEnv/lib/python3.6/site-packages (from farm-haystack) (1.0.9)\n",
      "Requirement already satisfied: python-docx in /home/ec2-user/anaconda3/envs/JupyterSystemEnv/lib/python3.6/site-packages (from farm-haystack) (0.8.11)\n",
      "Requirement already satisfied: faiss-cpu>=1.6.3 in /home/ec2-user/anaconda3/envs/JupyterSystemEnv/lib/python3.6/site-packages (from farm-haystack) (1.7.1.post2)\n",
      "Requirement already satisfied: tox in /home/ec2-user/anaconda3/envs/JupyterSystemEnv/lib/python3.6/site-packages (from farm-haystack) (3.24.4)\n",
      "Requirement already satisfied: networkx in /home/ec2-user/anaconda3/envs/JupyterSystemEnv/lib/python3.6/site-packages (from farm-haystack) (2.5.1)\n",
      "Requirement already satisfied: coverage in /home/ec2-user/anaconda3/envs/JupyterSystemEnv/lib/python3.6/site-packages (from farm-haystack) (5.5)\n",
      "Requirement already satisfied: elastic-apm in /home/ec2-user/anaconda3/envs/JupyterSystemEnv/lib/python3.6/site-packages (from farm-haystack) (6.4.0)\n",
      "Requirement already satisfied: uvicorn in /home/ec2-user/anaconda3/envs/JupyterSystemEnv/lib/python3.6/site-packages (from farm-haystack) (0.15.0)\n",
      "Requirement already satisfied: tika in /home/ec2-user/anaconda3/envs/JupyterSystemEnv/lib/python3.6/site-packages (from farm-haystack) (1.24)\n",
      "Requirement already satisfied: uvloop==0.14 in /home/ec2-user/anaconda3/envs/JupyterSystemEnv/lib/python3.6/site-packages (from farm-haystack) (0.14.0)\n",
      "Requirement already satisfied: gunicorn in /home/ec2-user/anaconda3/envs/JupyterSystemEnv/lib/python3.6/site-packages (from farm-haystack) (20.1.0)\n",
      "Requirement already satisfied: farm==0.7.1 in /home/ec2-user/anaconda3/envs/JupyterSystemEnv/lib/python3.6/site-packages (from farm-haystack) (0.7.1)\n",
      "Requirement already satisfied: nltk in /home/ec2-user/anaconda3/envs/JupyterSystemEnv/lib/python3.6/site-packages (from farm-haystack) (3.6.3)\n",
      "Requirement already satisfied: more-itertools in /home/ec2-user/anaconda3/envs/JupyterSystemEnv/lib/python3.6/site-packages (from farm-haystack) (8.10.0)\n",
      "Requirement already satisfied: sqlalchemy>=1.4.2 in /home/ec2-user/anaconda3/envs/JupyterSystemEnv/lib/python3.6/site-packages (from farm-haystack) (1.4.25)\n",
      "Requirement already satisfied: fastapi in /home/ec2-user/anaconda3/envs/JupyterSystemEnv/lib/python3.6/site-packages (from farm-haystack) (0.68.1)\n",
      "Requirement already satisfied: sqlalchemy-utils in /home/ec2-user/anaconda3/envs/JupyterSystemEnv/lib/python3.6/site-packages (from farm-haystack) (0.37.8)\n",
      "Requirement already satisfied: pandas in /home/ec2-user/anaconda3/envs/JupyterSystemEnv/lib/python3.6/site-packages (from farm-haystack) (1.1.3)\n",
      "Requirement already satisfied: torch<1.8,>1.5 in /home/ec2-user/anaconda3/envs/JupyterSystemEnv/lib/python3.6/site-packages (from farm==0.7.1->farm-haystack) (1.7.1)\n",
      "Requirement already satisfied: mlflow<=1.13.1 in /home/ec2-user/anaconda3/envs/JupyterSystemEnv/lib/python3.6/site-packages (from farm==0.7.1->farm-haystack) (1.13.1)\n",
      "Requirement already satisfied: flask-cors in /home/ec2-user/anaconda3/envs/JupyterSystemEnv/lib/python3.6/site-packages (from farm==0.7.1->farm-haystack) (3.0.10)\n",
      "Requirement already satisfied: requests in /home/ec2-user/anaconda3/envs/JupyterSystemEnv/lib/python3.6/site-packages (from farm==0.7.1->farm-haystack) (2.26.0)\n",
      "Requirement already satisfied: transformers==4.1.1 in /home/ec2-user/anaconda3/envs/JupyterSystemEnv/lib/python3.6/site-packages (from farm==0.7.1->farm-haystack) (4.1.1)\n",
      "Requirement already satisfied: dotmap in /home/ec2-user/anaconda3/envs/JupyterSystemEnv/lib/python3.6/site-packages (from farm==0.7.1->farm-haystack) (1.3.24)\n",
      "Requirement already satisfied: flask in /home/ec2-user/anaconda3/envs/JupyterSystemEnv/lib/python3.6/site-packages (from farm==0.7.1->farm-haystack) (1.1.4)\n",
      "Requirement already satisfied: seqeval in /home/ec2-user/anaconda3/envs/JupyterSystemEnv/lib/python3.6/site-packages (from farm==0.7.1->farm-haystack) (1.2.2)\n",
      "Requirement already satisfied: flask-restplus in /home/ec2-user/anaconda3/envs/JupyterSystemEnv/lib/python3.6/site-packages (from farm==0.7.1->farm-haystack) (0.13.0)\n",
      "Requirement already satisfied: scipy>=1.3.2 in /home/ec2-user/anaconda3/envs/JupyterSystemEnv/lib/python3.6/site-packages (from farm==0.7.1->farm-haystack) (1.5.4)\n",
      "Requirement already satisfied: tqdm in /home/ec2-user/anaconda3/envs/JupyterSystemEnv/lib/python3.6/site-packages (from farm==0.7.1->farm-haystack) (4.62.3)\n",
      "Requirement already satisfied: dill in /home/ec2-user/anaconda3/envs/JupyterSystemEnv/lib/python3.6/site-packages (from farm==0.7.1->farm-haystack) (0.3.4)\n",
      "Requirement already satisfied: psutil in /home/ec2-user/anaconda3/envs/JupyterSystemEnv/lib/python3.6/site-packages (from farm==0.7.1->farm-haystack) (5.8.0)\n",
      "Requirement already satisfied: Werkzeug==0.16.1 in /home/ec2-user/anaconda3/envs/JupyterSystemEnv/lib/python3.6/site-packages (from farm==0.7.1->farm-haystack) (0.16.1)\n",
      "Requirement already satisfied: wheel in /home/ec2-user/anaconda3/envs/JupyterSystemEnv/lib/python3.6/site-packages (from farm==0.7.1->farm-haystack) (0.37.0)\n",
      "Requirement already satisfied: sentencepiece in /home/ec2-user/anaconda3/envs/JupyterSystemEnv/lib/python3.6/site-packages (from farm==0.7.1->farm-haystack) (0.1.95)\n",
      "Requirement already satisfied: setuptools in /home/ec2-user/anaconda3/envs/JupyterSystemEnv/lib/python3.6/site-packages (from farm==0.7.1->farm-haystack) (58.0.4)\n",
      "Requirement already satisfied: boto3 in /home/ec2-user/anaconda3/envs/JupyterSystemEnv/lib/python3.6/site-packages (from farm==0.7.1->farm-haystack) (1.18.45)\n",
      "Requirement already satisfied: packaging in /home/ec2-user/anaconda3/envs/JupyterSystemEnv/lib/python3.6/site-packages (from transformers==4.1.1->farm==0.7.1->farm-haystack) (21.0)\n",
      "Requirement already satisfied: tokenizers==0.9.4 in /home/ec2-user/anaconda3/envs/JupyterSystemEnv/lib/python3.6/site-packages (from transformers==4.1.1->farm==0.7.1->farm-haystack) (0.9.4)\n",
      "Requirement already satisfied: dataclasses in /home/ec2-user/anaconda3/envs/JupyterSystemEnv/lib/python3.6/site-packages (from transformers==4.1.1->farm==0.7.1->farm-haystack) (0.8)\n",
      "Requirement already satisfied: regex!=2019.12.17 in /home/ec2-user/anaconda3/envs/JupyterSystemEnv/lib/python3.6/site-packages (from transformers==4.1.1->farm==0.7.1->farm-haystack) (2021.9.24)\n",
      "Requirement already satisfied: sacremoses in /home/ec2-user/anaconda3/envs/JupyterSystemEnv/lib/python3.6/site-packages (from transformers==4.1.1->farm==0.7.1->farm-haystack) (0.0.46)\n",
      "Requirement already satisfied: filelock in /home/ec2-user/anaconda3/envs/JupyterSystemEnv/lib/python3.6/site-packages (from transformers==4.1.1->farm==0.7.1->farm-haystack) (3.1.0)\n",
      "Requirement already satisfied: numpy in /home/ec2-user/anaconda3/envs/JupyterSystemEnv/lib/python3.6/site-packages (from transformers==4.1.1->farm==0.7.1->farm-haystack) (1.19.5)\n",
      "Requirement already satisfied: urllib3<2,>=1.21.1 in /home/ec2-user/anaconda3/envs/JupyterSystemEnv/lib/python3.6/site-packages (from elasticsearch<=7.10,>=7.7->farm-haystack) (1.26.6)\n",
      "Requirement already satisfied: certifi in /home/ec2-user/anaconda3/envs/JupyterSystemEnv/lib/python3.6/site-packages (from elasticsearch<=7.10,>=7.7->farm-haystack) (2020.6.20)\n",
      "Requirement already satisfied: pyyaml in /home/ec2-user/anaconda3/envs/JupyterSystemEnv/lib/python3.6/site-packages (from mlflow<=1.13.1->farm==0.7.1->farm-haystack) (5.4.1)\n",
      "Requirement already satisfied: databricks-cli>=0.8.7 in /home/ec2-user/anaconda3/envs/JupyterSystemEnv/lib/python3.6/site-packages (from mlflow<=1.13.1->farm==0.7.1->farm-haystack) (0.15.0)\n",
      "Requirement already satisfied: six>=1.10.0 in /home/ec2-user/anaconda3/envs/JupyterSystemEnv/lib/python3.6/site-packages (from mlflow<=1.13.1->farm==0.7.1->farm-haystack) (1.16.0)\n",
      "Requirement already satisfied: prometheus-flask-exporter in /home/ec2-user/anaconda3/envs/JupyterSystemEnv/lib/python3.6/site-packages (from mlflow<=1.13.1->farm==0.7.1->farm-haystack) (0.18.2)\n",
      "Requirement already satisfied: docker>=4.0.0 in /home/ec2-user/anaconda3/envs/JupyterSystemEnv/lib/python3.6/site-packages (from mlflow<=1.13.1->farm==0.7.1->farm-haystack) (5.0.0)\n",
      "Requirement already satisfied: alembic<=1.4.1 in /home/ec2-user/anaconda3/envs/JupyterSystemEnv/lib/python3.6/site-packages (from mlflow<=1.13.1->farm==0.7.1->farm-haystack) (1.4.1)\n",
      "Requirement already satisfied: click>=7.0 in /home/ec2-user/anaconda3/envs/JupyterSystemEnv/lib/python3.6/site-packages (from mlflow<=1.13.1->farm==0.7.1->farm-haystack) (7.1.2)\n",
      "Requirement already satisfied: azure-storage-blob>=12.0.0 in /home/ec2-user/anaconda3/envs/JupyterSystemEnv/lib/python3.6/site-packages (from mlflow<=1.13.1->farm==0.7.1->farm-haystack) (12.9.0)\n",
      "Requirement already satisfied: cloudpickle in /home/ec2-user/anaconda3/envs/JupyterSystemEnv/lib/python3.6/site-packages (from mlflow<=1.13.1->farm==0.7.1->farm-haystack) (2.0.0)\n",
      "Requirement already satisfied: entrypoints in /home/ec2-user/anaconda3/envs/JupyterSystemEnv/lib/python3.6/site-packages (from mlflow<=1.13.1->farm==0.7.1->farm-haystack) (0.3)\n",
      "Requirement already satisfied: python-dateutil in /home/ec2-user/anaconda3/envs/JupyterSystemEnv/lib/python3.6/site-packages (from mlflow<=1.13.1->farm==0.7.1->farm-haystack) (2.8.2)\n",
      "Requirement already satisfied: gitpython>=2.1.0 in /home/ec2-user/anaconda3/envs/JupyterSystemEnv/lib/python3.6/site-packages (from mlflow<=1.13.1->farm==0.7.1->farm-haystack) (3.1.18)\n",
      "Requirement already satisfied: sqlparse>=0.3.1 in /home/ec2-user/anaconda3/envs/JupyterSystemEnv/lib/python3.6/site-packages (from mlflow<=1.13.1->farm==0.7.1->farm-haystack) (0.4.2)\n",
      "Requirement already satisfied: querystring-parser in /home/ec2-user/anaconda3/envs/JupyterSystemEnv/lib/python3.6/site-packages (from mlflow<=1.13.1->farm==0.7.1->farm-haystack) (1.2.4)\n",
      "Requirement already satisfied: protobuf>=3.6.0 in /home/ec2-user/anaconda3/envs/JupyterSystemEnv/lib/python3.6/site-packages (from mlflow<=1.13.1->farm==0.7.1->farm-haystack) (3.18.0)\n",
      "Requirement already satisfied: python-editor>=0.3 in /home/ec2-user/anaconda3/envs/JupyterSystemEnv/lib/python3.6/site-packages (from alembic<=1.4.1->mlflow<=1.13.1->farm==0.7.1->farm-haystack) (1.0.4)\n",
      "Requirement already satisfied: Mako in /home/ec2-user/anaconda3/envs/JupyterSystemEnv/lib/python3.6/site-packages (from alembic<=1.4.1->mlflow<=1.13.1->farm==0.7.1->farm-haystack) (1.1.5)\n"
     ]
    },
    {
     "name": "stdout",
     "output_type": "stream",
     "text": [
      "Requirement already satisfied: cryptography>=2.1.4 in /home/ec2-user/anaconda3/envs/JupyterSystemEnv/lib/python3.6/site-packages (from azure-storage-blob>=12.0.0->mlflow<=1.13.1->farm==0.7.1->farm-haystack) (3.4.7)\n",
      "Requirement already satisfied: msrest>=0.6.21 in /home/ec2-user/anaconda3/envs/JupyterSystemEnv/lib/python3.6/site-packages (from azure-storage-blob>=12.0.0->mlflow<=1.13.1->farm==0.7.1->farm-haystack) (0.6.21)\n",
      "Requirement already satisfied: azure-core<2.0.0,>=1.10.0 in /home/ec2-user/anaconda3/envs/JupyterSystemEnv/lib/python3.6/site-packages (from azure-storage-blob>=12.0.0->mlflow<=1.13.1->farm==0.7.1->farm-haystack) (1.18.0)\n",
      "Requirement already satisfied: cffi>=1.12 in /home/ec2-user/anaconda3/envs/JupyterSystemEnv/lib/python3.6/site-packages (from cryptography>=2.1.4->azure-storage-blob>=12.0.0->mlflow<=1.13.1->farm==0.7.1->farm-haystack) (1.14.6)\n",
      "Requirement already satisfied: pycparser in /home/ec2-user/anaconda3/envs/JupyterSystemEnv/lib/python3.6/site-packages (from cffi>=1.12->cryptography>=2.1.4->azure-storage-blob>=12.0.0->mlflow<=1.13.1->farm==0.7.1->farm-haystack) (2.20)\n",
      "Requirement already satisfied: tabulate>=0.7.7 in /home/ec2-user/anaconda3/envs/JupyterSystemEnv/lib/python3.6/site-packages (from databricks-cli>=0.8.7->mlflow<=1.13.1->farm==0.7.1->farm-haystack) (0.8.9)\n",
      "Requirement already satisfied: websocket-client>=0.32.0 in /home/ec2-user/anaconda3/envs/JupyterSystemEnv/lib/python3.6/site-packages (from docker>=4.0.0->mlflow<=1.13.1->farm==0.7.1->farm-haystack) (0.59.0)\n",
      "Requirement already satisfied: gitdb<5,>=4.0.1 in /home/ec2-user/anaconda3/envs/JupyterSystemEnv/lib/python3.6/site-packages (from gitpython>=2.1.0->mlflow<=1.13.1->farm==0.7.1->farm-haystack) (4.0.7)\n",
      "Requirement already satisfied: typing-extensions>=3.7.4.0 in /home/ec2-user/anaconda3/envs/JupyterSystemEnv/lib/python3.6/site-packages (from gitpython>=2.1.0->mlflow<=1.13.1->farm==0.7.1->farm-haystack) (3.10.0.2)\n",
      "Requirement already satisfied: smmap<5,>=3.0.1 in /home/ec2-user/anaconda3/envs/JupyterSystemEnv/lib/python3.6/site-packages (from gitdb<5,>=4.0.1->gitpython>=2.1.0->mlflow<=1.13.1->farm==0.7.1->farm-haystack) (4.0.0)\n",
      "Requirement already satisfied: requests-oauthlib>=0.5.0 in /home/ec2-user/anaconda3/envs/JupyterSystemEnv/lib/python3.6/site-packages (from msrest>=0.6.21->azure-storage-blob>=12.0.0->mlflow<=1.13.1->farm==0.7.1->farm-haystack) (1.3.0)\n",
      "Requirement already satisfied: isodate>=0.6.0 in /home/ec2-user/anaconda3/envs/JupyterSystemEnv/lib/python3.6/site-packages (from msrest>=0.6.21->azure-storage-blob>=12.0.0->mlflow<=1.13.1->farm==0.7.1->farm-haystack) (0.6.0)\n",
      "Requirement already satisfied: charset-normalizer~=2.0.0 in /home/ec2-user/anaconda3/envs/JupyterSystemEnv/lib/python3.6/site-packages (from requests->farm==0.7.1->farm-haystack) (2.0.6)\n",
      "Requirement already satisfied: idna<4,>=2.5 in /home/ec2-user/anaconda3/envs/JupyterSystemEnv/lib/python3.6/site-packages (from requests->farm==0.7.1->farm-haystack) (3.1)\n",
      "Requirement already satisfied: oauthlib>=3.0.0 in /home/ec2-user/anaconda3/envs/JupyterSystemEnv/lib/python3.6/site-packages (from requests-oauthlib>=0.5.0->msrest>=0.6.21->azure-storage-blob>=12.0.0->mlflow<=1.13.1->farm==0.7.1->farm-haystack) (3.1.1)\n",
      "Requirement already satisfied: importlib-metadata in /home/ec2-user/anaconda3/envs/JupyterSystemEnv/lib/python3.6/site-packages (from sqlalchemy>=1.4.2->farm-haystack) (4.8.1)\n",
      "Requirement already satisfied: greenlet!=0.4.17 in /home/ec2-user/anaconda3/envs/JupyterSystemEnv/lib/python3.6/site-packages (from sqlalchemy>=1.4.2->farm-haystack) (1.1.1)\n",
      "Requirement already satisfied: botocore<1.22.0,>=1.21.45 in /home/ec2-user/anaconda3/envs/JupyterSystemEnv/lib/python3.6/site-packages (from boto3->farm==0.7.1->farm-haystack) (1.21.45)\n",
      "Requirement already satisfied: jmespath<1.0.0,>=0.7.1 in /home/ec2-user/anaconda3/envs/JupyterSystemEnv/lib/python3.6/site-packages (from boto3->farm==0.7.1->farm-haystack) (0.10.0)\n",
      "Requirement already satisfied: s3transfer<0.6.0,>=0.5.0 in /home/ec2-user/anaconda3/envs/JupyterSystemEnv/lib/python3.6/site-packages (from boto3->farm==0.7.1->farm-haystack) (0.5.0)\n",
      "Requirement already satisfied: starlette==0.14.2 in /home/ec2-user/anaconda3/envs/JupyterSystemEnv/lib/python3.6/site-packages (from fastapi->farm-haystack) (0.14.2)\n",
      "Requirement already satisfied: pydantic!=1.7,!=1.7.1,!=1.7.2,!=1.7.3,!=1.8,!=1.8.1,<2.0.0,>=1.6.2 in /home/ec2-user/anaconda3/envs/JupyterSystemEnv/lib/python3.6/site-packages (from fastapi->farm-haystack) (1.7.4)\n",
      "Requirement already satisfied: Jinja2<3.0,>=2.10.1 in /home/ec2-user/anaconda3/envs/JupyterSystemEnv/lib/python3.6/site-packages (from flask->farm==0.7.1->farm-haystack) (2.11.3)\n",
      "Requirement already satisfied: itsdangerous<2.0,>=0.24 in /home/ec2-user/anaconda3/envs/JupyterSystemEnv/lib/python3.6/site-packages (from flask->farm==0.7.1->farm-haystack) (1.1.0)\n",
      "Requirement already satisfied: MarkupSafe>=0.23 in /home/ec2-user/anaconda3/envs/JupyterSystemEnv/lib/python3.6/site-packages (from Jinja2<3.0,>=2.10.1->flask->farm==0.7.1->farm-haystack) (2.0.1)\n",
      "Requirement already satisfied: aniso8601>=0.82 in /home/ec2-user/anaconda3/envs/JupyterSystemEnv/lib/python3.6/site-packages (from flask-restplus->farm==0.7.1->farm-haystack) (9.0.1)\n",
      "Requirement already satisfied: pytz in /home/ec2-user/anaconda3/envs/JupyterSystemEnv/lib/python3.6/site-packages (from flask-restplus->farm==0.7.1->farm-haystack) (2021.1)\n",
      "Requirement already satisfied: jsonschema in /home/ec2-user/anaconda3/envs/JupyterSystemEnv/lib/python3.6/site-packages (from flask-restplus->farm==0.7.1->farm-haystack) (3.2.0)\n",
      "Requirement already satisfied: zipp>=0.5 in /home/ec2-user/anaconda3/envs/JupyterSystemEnv/lib/python3.6/site-packages (from importlib-metadata->sqlalchemy>=1.4.2->farm-haystack) (3.5.0)\n",
      "Requirement already satisfied: attrs>=17.4.0 in /home/ec2-user/anaconda3/envs/JupyterSystemEnv/lib/python3.6/site-packages (from jsonschema->flask-restplus->farm==0.7.1->farm-haystack) (21.2.0)\n",
      "Requirement already satisfied: pyrsistent>=0.14.0 in /home/ec2-user/anaconda3/envs/JupyterSystemEnv/lib/python3.6/site-packages (from jsonschema->flask-restplus->farm==0.7.1->farm-haystack) (0.17.3)\n",
      "Requirement already satisfied: decorator<5,>=4.3 in /home/ec2-user/anaconda3/envs/JupyterSystemEnv/lib/python3.6/site-packages (from networkx->farm-haystack) (4.4.2)\n",
      "Requirement already satisfied: joblib in /home/ec2-user/anaconda3/envs/JupyterSystemEnv/lib/python3.6/site-packages (from nltk->farm-haystack) (1.0.1)\n",
      "Requirement already satisfied: pyparsing>=2.0.2 in /home/ec2-user/anaconda3/envs/JupyterSystemEnv/lib/python3.6/site-packages (from packaging->transformers==4.1.1->farm==0.7.1->farm-haystack) (2.4.7)\n",
      "Requirement already satisfied: prometheus-client in /home/ec2-user/anaconda3/envs/JupyterSystemEnv/lib/python3.6/site-packages (from prometheus-flask-exporter->mlflow<=1.13.1->farm==0.7.1->farm-haystack) (0.11.0)\n",
      "Requirement already satisfied: grpcio-tools<1.38.0,>=1.22.0 in /home/ec2-user/anaconda3/envs/JupyterSystemEnv/lib/python3.6/site-packages (from pymilvus->farm-haystack) (1.37.1)\n",
      "Requirement already satisfied: grpcio<1.38.0,>=1.22.0 in /home/ec2-user/anaconda3/envs/JupyterSystemEnv/lib/python3.6/site-packages (from pymilvus->farm-haystack) (1.37.1)\n",
      "Requirement already satisfied: ujson>=2.0.0 in /home/ec2-user/anaconda3/envs/JupyterSystemEnv/lib/python3.6/site-packages (from pymilvus->farm-haystack) (4.2.0)\n",
      "Requirement already satisfied: lxml>=2.3.2 in /home/ec2-user/anaconda3/envs/JupyterSystemEnv/lib/python3.6/site-packages (from python-docx->farm-haystack) (4.6.3)\n",
      "Requirement already satisfied: scikit-learn>=0.21.3 in /home/ec2-user/anaconda3/envs/JupyterSystemEnv/lib/python3.6/site-packages (from seqeval->farm==0.7.1->farm-haystack) (0.24.2)\n",
      "Requirement already satisfied: threadpoolctl>=2.0.0 in /home/ec2-user/anaconda3/envs/JupyterSystemEnv/lib/python3.6/site-packages (from scikit-learn>=0.21.3->seqeval->farm==0.7.1->farm-haystack) (2.2.0)\n",
      "Requirement already satisfied: rdflib>=4.0 in /home/ec2-user/anaconda3/envs/JupyterSystemEnv/lib/python3.6/site-packages (from SPARQLWrapper->farm-haystack) (5.0.0)\n",
      "Requirement already satisfied: pluggy>=0.12.0 in /home/ec2-user/anaconda3/envs/JupyterSystemEnv/lib/python3.6/site-packages (from tox->farm-haystack) (0.13.1)\n",
      "Requirement already satisfied: toml>=0.9.4 in /home/ec2-user/anaconda3/envs/JupyterSystemEnv/lib/python3.6/site-packages (from tox->farm-haystack) (0.10.2)\n",
      "Requirement already satisfied: virtualenv!=20.0.0,!=20.0.1,!=20.0.2,!=20.0.3,!=20.0.4,!=20.0.5,!=20.0.6,!=20.0.7,>=16.0.0 in /home/ec2-user/anaconda3/envs/JupyterSystemEnv/lib/python3.6/site-packages (from tox->farm-haystack) (20.8.1)\n",
      "Requirement already satisfied: py>=1.4.17 in /home/ec2-user/anaconda3/envs/JupyterSystemEnv/lib/python3.6/site-packages (from tox->farm-haystack) (1.10.0)\n"
     ]
    },
    {
     "name": "stdout",
     "output_type": "stream",
     "text": [
      "Requirement already satisfied: backports.entry-points-selectable>=1.0.4 in /home/ec2-user/anaconda3/envs/JupyterSystemEnv/lib/python3.6/site-packages (from virtualenv!=20.0.0,!=20.0.1,!=20.0.2,!=20.0.3,!=20.0.4,!=20.0.5,!=20.0.6,!=20.0.7,>=16.0.0->tox->farm-haystack) (1.1.0)\n",
      "Requirement already satisfied: platformdirs<3,>=2 in /home/ec2-user/anaconda3/envs/JupyterSystemEnv/lib/python3.6/site-packages (from virtualenv!=20.0.0,!=20.0.1,!=20.0.2,!=20.0.3,!=20.0.4,!=20.0.5,!=20.0.6,!=20.0.7,>=16.0.0->tox->farm-haystack) (2.4.0)\n",
      "Requirement already satisfied: importlib-resources>=1.0 in /home/ec2-user/anaconda3/envs/JupyterSystemEnv/lib/python3.6/site-packages (from virtualenv!=20.0.0,!=20.0.1,!=20.0.2,!=20.0.3,!=20.0.4,!=20.0.5,!=20.0.6,!=20.0.7,>=16.0.0->tox->farm-haystack) (5.2.2)\n",
      "Requirement already satisfied: distlib<1,>=0.3.1 in /home/ec2-user/anaconda3/envs/JupyterSystemEnv/lib/python3.6/site-packages (from virtualenv!=20.0.0,!=20.0.1,!=20.0.2,!=20.0.3,!=20.0.4,!=20.0.5,!=20.0.6,!=20.0.7,>=16.0.0->tox->farm-haystack) (0.3.3)\n",
      "Requirement already satisfied: asgiref>=3.4.0 in /home/ec2-user/anaconda3/envs/JupyterSystemEnv/lib/python3.6/site-packages (from uvicorn->farm-haystack) (3.4.1)\n",
      "Requirement already satisfied: h11>=0.8 in /home/ec2-user/anaconda3/envs/JupyterSystemEnv/lib/python3.6/site-packages (from uvicorn->farm-haystack) (0.12.0)\n"
     ]
    }
   ],
   "source": [
    "!pip install farm-haystack"
   ]
  },
  {
   "cell_type": "markdown",
   "id": "de131da7",
   "metadata": {},
   "source": [
    "## Example"
   ]
  },
  {
   "cell_type": "code",
   "execution_count": 2,
   "id": "b00798f6",
   "metadata": {},
   "outputs": [
    {
     "name": "stderr",
     "output_type": "stream",
     "text": [
      "09/27/2021 23:49:42 - INFO - faiss.loader -   Loading faiss with AVX2 support.\n",
      "09/27/2021 23:49:42 - INFO - faiss.loader -   Could not load library with AVX2 support due to:\n",
      "ModuleNotFoundError(\"No module named 'faiss.swigfaiss_avx2'\",)\n",
      "09/27/2021 23:49:42 - INFO - faiss.loader -   Loading faiss.\n",
      "09/27/2021 23:49:42 - INFO - faiss.loader -   Successfully loaded faiss.\n",
      "09/27/2021 23:49:44 - INFO - farm.modeling.prediction_head -   Better speed can be achieved with apex installed from https://www.github.com/nvidia/apex .\n"
     ]
    }
   ],
   "source": [
    "from haystack.document_store.faiss import FAISSDocumentStore\n",
    "\n",
    "document_store = FAISSDocumentStore(vector_dim=128, faiss_index_factory_str=\"Flat\")"
   ]
  },
  {
   "cell_type": "code",
   "execution_count": 4,
   "id": "7b8fb96b",
   "metadata": {},
   "outputs": [
    {
     "data": {
      "application/vnd.jupyter.widget-view+json": {
       "model_id": "179754da9cf544d6992caa7a4dddc17c",
       "version_major": 2,
       "version_minor": 0
      },
      "text/plain": [
       "Downloading:   0%|          | 0.00/2.11k [00:00<?, ?B/s]"
      ]
     },
     "metadata": {},
     "output_type": "display_data"
    },
    {
     "data": {
      "application/vnd.jupyter.widget-view+json": {
       "model_id": "1588d26f76ae49f796657be753e9818b",
       "version_major": 2,
       "version_minor": 0
      },
      "text/plain": [
       "Downloading:   0%|          | 0.00/580 [00:00<?, ?B/s]"
      ]
     },
     "metadata": {},
     "output_type": "display_data"
    },
    {
     "data": {
      "application/vnd.jupyter.widget-view+json": {
       "model_id": "e195d09c57e945d882c9d399cd565c7e",
       "version_major": 2,
       "version_minor": 0
      },
      "text/plain": [
       "Downloading:   0%|          | 0.00/2.03k [00:00<?, ?B/s]"
      ]
     },
     "metadata": {},
     "output_type": "display_data"
    },
    {
     "data": {
      "application/vnd.jupyter.widget-view+json": {
       "model_id": "1bd7a1aa54e3435bb154af69eea6bfa9",
       "version_major": 2,
       "version_minor": 0
      },
      "text/plain": [
       "Downloading:   0%|          | 0.00/639 [00:00<?, ?B/s]"
      ]
     },
     "metadata": {},
     "output_type": "display_data"
    },
    {
     "name": "stdout",
     "output_type": "stream",
     "text": [
      "Downloading and preparing dataset wiki40b/en (download: Unknown size, generated: 9.75 GiB, post-processed: Unknown size, total: 9.75 GiB) to /home/ec2-user/.cache/huggingface/datasets/wiki40b/en/1.1.0/3d99a1f96eba780a027018e9a18c1b9a6f5809625e78804a915495f6193dfa5e...\n"
     ]
    },
    {
     "data": {
      "application/vnd.jupyter.widget-view+json": {
       "model_id": "4572f2633bd841b78e25941962d61bc9",
       "version_major": 2,
       "version_minor": 0
      },
      "text/plain": [
       "Downloading:   0%|          | 0.00/1.38k [00:00<?, ?B/s]"
      ]
     },
     "metadata": {},
     "output_type": "display_data"
    },
    {
     "data": {
      "application/vnd.jupyter.widget-view+json": {
       "model_id": "9fccb24cb7014b32a0384f5046eee78f",
       "version_major": 2,
       "version_minor": 0
      },
      "text/plain": [
       "Downloading:   0%|          | 0.00/9.42G [00:00<?, ?B/s]"
      ]
     },
     "metadata": {},
     "output_type": "display_data"
    },
    {
     "data": {
      "application/vnd.jupyter.widget-view+json": {
       "model_id": "e9b0f217ee244ffe9a3cf36c244616f6",
       "version_major": 2,
       "version_minor": 0
      },
      "text/plain": [
       "Downloading:   0%|          | 0.00/527M [00:00<?, ?B/s]"
      ]
     },
     "metadata": {},
     "output_type": "display_data"
    },
    {
     "data": {
      "application/vnd.jupyter.widget-view+json": {
       "model_id": "7c2ad459c7ab4f8ea2eecaed1cd08051",
       "version_major": 2,
       "version_minor": 0
      },
      "text/plain": [
       "Downloading:   0%|          | 0.00/522M [00:00<?, ?B/s]"
      ]
     },
     "metadata": {},
     "output_type": "display_data"
    },
    {
     "name": "stdout",
     "output_type": "stream",
     "text": [
      "Dataset wiki40b downloaded and prepared to /home/ec2-user/.cache/huggingface/datasets/wiki40b/en/1.1.0/3d99a1f96eba780a027018e9a18c1b9a6f5809625e78804a915495f6193dfa5e. Subsequent calls will reuse this data.\n"
     ]
    },
    {
     "data": {
      "application/vnd.jupyter.widget-view+json": {
       "model_id": "42e04809021e4212b0004a796b5d579b",
       "version_major": 2,
       "version_minor": 0
      },
      "text/plain": [
       "  0%|          | 0/3 [00:00<?, ?it/s]"
      ]
     },
     "metadata": {},
     "output_type": "display_data"
    }
   ],
   "source": [
    "from datasets import load_dataset\n",
    "\n",
    "wiki_snippets = load_dataset('wiki_snippets', name='wiki40b_en_100_0', streaming=True)['train']\n"
   ]
  },
  {
   "cell_type": "code",
   "execution_count": 7,
   "id": "7ef714d1",
   "metadata": {},
   "outputs": [
    {
     "name": "stderr",
     "output_type": "stream",
     "text": [
      "09/27/2021 23:52:19 - INFO - haystack.retriever.dense -   Init retriever using embeddings of model yjernite/retribert-base-uncased\n"
     ]
    },
    {
     "ename": "NotImplementedError",
     "evalue": "",
     "output_type": "error",
     "traceback": [
      "\u001b[0;31m---------------------------------------------------------------------------\u001b[0m",
      "\u001b[0;31mNotImplementedError\u001b[0m                       Traceback (most recent call last)",
      "\u001b[0;32m<ipython-input-7-6623c55d58d4>\u001b[0m in \u001b[0;36m<module>\u001b[0;34m()\u001b[0m\n\u001b[1;32m      3\u001b[0m retriever = EmbeddingRetriever(document_store=document_store,\n\u001b[1;32m      4\u001b[0m                                \u001b[0membedding_model\u001b[0m\u001b[0;34m=\u001b[0m\u001b[0;34m\"yjernite/retribert-base-uncased\"\u001b[0m\u001b[0;34m,\u001b[0m\u001b[0;34m\u001b[0m\u001b[0;34m\u001b[0m\u001b[0m\n\u001b[0;32m----> 5\u001b[0;31m                                model_format=\"retribert\")\n\u001b[0m\u001b[1;32m      6\u001b[0m \u001b[0;34m\u001b[0m\u001b[0m\n\u001b[1;32m      7\u001b[0m \u001b[0mdocument_store\u001b[0m\u001b[0;34m.\u001b[0m\u001b[0mupdate_embeddings\u001b[0m\u001b[0;34m(\u001b[0m\u001b[0mretriever\u001b[0m\u001b[0;34m)\u001b[0m\u001b[0;34m\u001b[0m\u001b[0;34m\u001b[0m\u001b[0m\n",
      "\u001b[0;32m/home/ec2-user/anaconda3/envs/JupyterSystemEnv/lib/python3.6/site-packages/haystack/retriever/dense.py\u001b[0m in \u001b[0;36m__init__\u001b[0;34m(self, document_store, embedding_model, model_version, use_gpu, model_format, pooling_strategy, emb_extraction_layer, top_k)\u001b[0m\n\u001b[1;32m    504\u001b[0m                     f\"This can be set when initializing the DocumentStore\")\n\u001b[1;32m    505\u001b[0m         \u001b[0;32melse\u001b[0m\u001b[0;34m:\u001b[0m\u001b[0;34m\u001b[0m\u001b[0;34m\u001b[0m\u001b[0m\n\u001b[0;32m--> 506\u001b[0;31m             \u001b[0;32mraise\u001b[0m \u001b[0mNotImplementedError\u001b[0m\u001b[0;34m\u001b[0m\u001b[0;34m\u001b[0m\u001b[0m\n\u001b[0m\u001b[1;32m    507\u001b[0m \u001b[0;34m\u001b[0m\u001b[0m\n\u001b[1;32m    508\u001b[0m     \u001b[0;32mdef\u001b[0m \u001b[0mretrieve\u001b[0m\u001b[0;34m(\u001b[0m\u001b[0mself\u001b[0m\u001b[0;34m,\u001b[0m \u001b[0mquery\u001b[0m\u001b[0;34m:\u001b[0m \u001b[0mstr\u001b[0m\u001b[0;34m,\u001b[0m \u001b[0mfilters\u001b[0m\u001b[0;34m:\u001b[0m \u001b[0mdict\u001b[0m \u001b[0;34m=\u001b[0m \u001b[0;32mNone\u001b[0m\u001b[0;34m,\u001b[0m \u001b[0mtop_k\u001b[0m\u001b[0;34m:\u001b[0m \u001b[0mOptional\u001b[0m\u001b[0;34m[\u001b[0m\u001b[0mint\u001b[0m\u001b[0;34m]\u001b[0m \u001b[0;34m=\u001b[0m \u001b[0;32mNone\u001b[0m\u001b[0;34m,\u001b[0m \u001b[0mindex\u001b[0m\u001b[0;34m:\u001b[0m \u001b[0mstr\u001b[0m \u001b[0;34m=\u001b[0m \u001b[0;32mNone\u001b[0m\u001b[0;34m)\u001b[0m \u001b[0;34m->\u001b[0m \u001b[0mList\u001b[0m\u001b[0;34m[\u001b[0m\u001b[0mDocument\u001b[0m\u001b[0;34m]\u001b[0m\u001b[0;34m:\u001b[0m\u001b[0;34m\u001b[0m\u001b[0;34m\u001b[0m\u001b[0m\n",
      "\u001b[0;31mNotImplementedError\u001b[0m: "
     ]
    }
   ],
   "source": [
    "from haystack.retriever.dense import EmbeddingRetriever\n",
    "\n",
    "retriever = EmbeddingRetriever(document_store=document_store,\n",
    "                               embedding_model=\"yjernite/retribert-base-uncased\",\n",
    "                               model_format=\"retribert\")\n",
    "\n",
    "document_store.update_embeddings(retriever)"
   ]
  },
  {
   "cell_type": "code",
   "execution_count": null,
   "id": "9eb35dcb",
   "metadata": {},
   "outputs": [],
   "source": [
    "from haystack.utils import print_answers, print_documents\n",
    "from haystack.pipeline import DocumentSearchPipeline\n",
    "\n",
    "p_retrieval = DocumentSearchPipeline(retriever)\n",
    "res = p_retrieval.run(\n",
    "    query=\"Why are Bermudan sloop ships widely prized?\",\n",
    "    top_k_retriever=10\n",
    ")\n",
    "print_documents(res, max_text_len=256)"
   ]
  },
  {
   "cell_type": "code",
   "execution_count": null,
   "id": "631b970a",
   "metadata": {},
   "outputs": [],
   "source": [
    "from haystack.generator.transformers import Seq2SeqGenerator\n",
    "from haystack.pipeline import GenerativeQAPipeline\n",
    "\n",
    "generator = Seq2SeqGenerator(model_name_or_path=\"yjernite/bart_eli5\")\n",
    "pipe = GenerativeQAPipeline(generator, retriever)"
   ]
  },
  {
   "cell_type": "code",
   "execution_count": 8,
   "id": "99f4c285",
   "metadata": {},
   "outputs": [
    {
     "ename": "NameError",
     "evalue": "name 'pipe' is not defined",
     "output_type": "error",
     "traceback": [
      "\u001b[0;31m---------------------------------------------------------------------------\u001b[0m",
      "\u001b[0;31mNameError\u001b[0m                                 Traceback (most recent call last)",
      "\u001b[0;32m<ipython-input-8-502e88cae817>\u001b[0m in \u001b[0;36m<module>\u001b[0;34m()\u001b[0m\n\u001b[0;32m----> 1\u001b[0;31m \u001b[0mpipe\u001b[0m\u001b[0;34m.\u001b[0m\u001b[0mrun\u001b[0m\u001b[0;34m(\u001b[0m\u001b[0mquery\u001b[0m\u001b[0;34m=\u001b[0m\u001b[0;34m\"Why are Bermudan sloop ships widely prized?\"\u001b[0m\u001b[0;34m,\u001b[0m \u001b[0mtop_k_retriever\u001b[0m\u001b[0;34m=\u001b[0m\u001b[0;36m4\u001b[0m\u001b[0;34m)\u001b[0m\u001b[0;34m\u001b[0m\u001b[0;34m\u001b[0m\u001b[0m\n\u001b[0m",
      "\u001b[0;31mNameError\u001b[0m: name 'pipe' is not defined"
     ]
    }
   ],
   "source": [
    "pipe.run(query=\"Why are Bermudan sloop ships widely prized?\", top_k_retriever=4)"
   ]
  },
  {
   "cell_type": "code",
   "execution_count": null,
   "id": "0953f1b4",
   "metadata": {},
   "outputs": [],
   "source": []
  }
 ],
 "metadata": {
  "kernelspec": {
   "display_name": "questeval",
   "language": "python",
   "name": "questeval"
  },
  "language_info": {
   "codemirror_mode": {
    "name": "ipython",
    "version": 3
   },
   "file_extension": ".py",
   "mimetype": "text/x-python",
   "name": "python",
   "nbconvert_exporter": "python",
   "pygments_lexer": "ipython3",
   "version": "3.6.13"
  }
 },
 "nbformat": 4,
 "nbformat_minor": 5
}
