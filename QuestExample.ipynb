{
 "cells": [
  {
   "cell_type": "markdown",
   "id": "c9b55e9a",
   "metadata": {},
   "source": [
    "# QuestEval"
   ]
  },
  {
   "cell_type": "code",
   "execution_count": null,
   "id": "ae155a5e",
   "metadata": {},
   "outputs": [],
   "source": [
    "# https://github.com/pablo-tech/QuestEval"
   ]
  },
  {
   "cell_type": "markdown",
   "id": "329055c1",
   "metadata": {},
   "source": [
    "## Setup"
   ]
  },
  {
   "cell_type": "code",
   "execution_count": 5,
   "id": "97abba05",
   "metadata": {},
   "outputs": [],
   "source": [
    "# !pip install -r requirements.txt"
   ]
  },
  {
   "cell_type": "code",
   "execution_count": 6,
   "id": "8358309d",
   "metadata": {},
   "outputs": [],
   "source": [
    "import time"
   ]
  },
  {
   "cell_type": "code",
   "execution_count": 11,
   "id": "ffbcc55e",
   "metadata": {},
   "outputs": [
    {
     "data": {
      "text/plain": [
       "True"
      ]
     },
     "execution_count": 11,
     "metadata": {},
     "output_type": "execute_result"
    }
   ],
   "source": [
    "import torch\n",
    "\n",
    "torch.cuda.is_available()"
   ]
  },
  {
   "cell_type": "markdown",
   "id": "65e96eff",
   "metadata": {},
   "source": [
    "## Using QuestEval"
   ]
  },
  {
   "cell_type": "markdown",
   "id": "cf86c839",
   "metadata": {},
   "source": [
    "##### With references"
   ]
  },
  {
   "cell_type": "code",
   "execution_count": 12,
   "id": "f20182a3",
   "metadata": {},
   "outputs": [
    {
     "name": "stdout",
     "output_type": "stream",
     "text": [
      "{'corpus_score': 0.6115363970845675, 'ex_level_scores': [0.5698804867646051, 0.6531923074045298]}\n",
      "0.0019028186798095703\n"
     ]
    }
   ],
   "source": [
    "from questeval.questeval_metric import QuestEval\n",
    "\n",
    "questeval = QuestEval(no_cuda=False)\n",
    "# self.device = 'cuda' if (torch.cuda.is_available() and not no_cuda) else 'cpu'\n",
    "start = time.time()\n",
    "\n",
    "source_1 = \"Since 2000, the recipient of the Kate Greenaway medal has also been presented with the Colin Mears award to the value of 35000.\"\n",
    "prediction_1 = \"Since 2000, the winner of the Kate Greenaway medal has also been given to the Colin Mears award of the Kate Greenaway medal.\"\n",
    "references_1 = [\n",
    "    \"Since 2000, the recipient of the Kate Greenaway Medal will also receive the Colin Mears Awad which worth 5000 pounds\",\n",
    "    \"Since 2000, the recipient of the Kate Greenaway Medal has also been given the Colin Mears Award.\"\n",
    "]\n",
    "\n",
    "source_2 = \"He is also a member of another Jungiery boyband 183 Club.\"\n",
    "prediction_2 = \"He also has another Jungiery Boyband 183 club.\"\n",
    "references_2 = [\n",
    "    \"He's also a member of another Jungiery boyband, 183 Club.\", \n",
    "    \"He belonged to the Jungiery boyband 183 Club.\"\n",
    "]\n",
    "\n",
    "score = questeval.corpus_questeval(\n",
    "    hypothesis=[prediction_1, prediction_2], \n",
    "    sources=[source_1, source_2],\n",
    "    list_references=[references_1, references_2]\n",
    ")\n",
    "\n",
    "print(score)\n",
    "\n",
    "end = time.time()\n",
    "print(end - start)"
   ]
  },
  {
   "cell_type": "markdown",
   "id": "787d94de",
   "metadata": {},
   "source": [
    "##### Without references"
   ]
  },
  {
   "cell_type": "code",
   "execution_count": 19,
   "id": "89d336dc",
   "metadata": {},
   "outputs": [
    {
     "name": "stdout",
     "output_type": "stream",
     "text": [
      "{'corpus_score': 0.5538727793113265, 'ex_level_scores': [0.5382941802342733, 0.5694513783883796]}\n"
     ]
    }
   ],
   "source": [
    "score = questeval.corpus_questeval(\n",
    "    hypothesis=[prediction_1, prediction_2], \n",
    "    sources=[source_1, source_2]\n",
    ")\n",
    "\n",
    "print(score)"
   ]
  },
  {
   "cell_type": "markdown",
   "id": "7679acf7",
   "metadata": {},
   "source": [
    "##### Log"
   ]
  },
  {
   "cell_type": "code",
   "execution_count": 13,
   "id": "306d5edb",
   "metadata": {},
   "outputs": [],
   "source": [
    "log = questeval.open_log_from_text(source_1)"
   ]
  },
  {
   "cell_type": "code",
   "execution_count": 14,
   "id": "d8f76b16",
   "metadata": {},
   "outputs": [
    {
     "name": "stdout",
     "output_type": "stream",
     "text": [
      "dict_keys(['Since what year has the winner of the Kate Greenaway medal been given?', 'What medal has been given to the winner of the Colin Mears award since 2000?', 'What has been given to the Colin Mears award since 2000?', 'What award has been given to the winner of the Colin Mears award?', 'What award has been given to the winner of the Kate Greenaway medal since 2000?'])\n"
     ]
    }
   ],
   "source": [
    "print(log['asked'].keys())"
   ]
  },
  {
   "cell_type": "markdown",
   "id": "2acf2c11",
   "metadata": {},
   "source": [
    "##### Hash"
   ]
  },
  {
   "cell_type": "code",
   "execution_count": 15,
   "id": "fa17962e",
   "metadata": {},
   "outputs": [
    {
     "data": {
      "text/plain": [
       "\"QuestEval_version=0.2.4_task=text2text_lang=en_preproc=None_consist=False_scores=('answerability', 'bertscore', 'f1')W_hash=None_hyp_QA_hash=ThomasNLG/t5-qa_squad2neg-en_ref_QA_hash=ThomasNLG/t5-qa_squad2neg-en_src_QA_hash=ThomasNLG/t5-qa_squad2neg-en_hyp_QG_hash=ThomasNLG/t5-qg_squad1-en_ref_QG_hash=ThomasNLG/t5-qg_squad1-en_src_QG_hash=ThomasNLG/t5-qg_squad1-en\""
      ]
     },
     "execution_count": 15,
     "metadata": {},
     "output_type": "execute_result"
    }
   ],
   "source": [
    "questeval.__hash__()"
   ]
  },
  {
   "cell_type": "markdown",
   "id": "c1589cc0",
   "metadata": {},
   "source": [
    "##### Model"
   ]
  },
  {
   "cell_type": "code",
   "execution_count": 17,
   "id": "caa71981",
   "metadata": {},
   "outputs": [],
   "source": [
    "# questeval.set_model(model_name)"
   ]
  },
  {
   "cell_type": "code",
   "execution_count": null,
   "id": "f51d002a",
   "metadata": {},
   "outputs": [],
   "source": []
  }
 ],
 "metadata": {
  "kernelspec": {
   "display_name": "questeval",
   "language": "python",
   "name": "questeval"
  },
  "language_info": {
   "codemirror_mode": {
    "name": "ipython",
    "version": 3
   },
   "file_extension": ".py",
   "mimetype": "text/x-python",
   "name": "python",
   "nbconvert_exporter": "python",
   "pygments_lexer": "ipython3",
   "version": "3.6.13"
  }
 },
 "nbformat": 4,
 "nbformat_minor": 5
}
